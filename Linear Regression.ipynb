{
 "cells": [
  {
   "cell_type": "code",
   "execution_count": 2,
   "id": "cdcb9bb0",
   "metadata": {},
   "outputs": [],
   "source": [
    "import numpy as np\n",
    "import pandas as pd"
   ]
  },
  {
   "cell_type": "code",
   "execution_count": 3,
   "id": "5f9b3a81",
   "metadata": {},
   "outputs": [],
   "source": [
    "data = pd.read_csv(\"insurance.csv\")"
   ]
  },
  {
   "cell_type": "code",
   "execution_count": 4,
   "id": "86da4a5e",
   "metadata": {},
   "outputs": [],
   "source": [
    "regionDummies = pd.get_dummies(data.region,dtype=int)\n",
    "genderDummies = pd.get_dummies(data.sex,dtype=int)\n",
    "smokerDummies = pd.get_dummies(data.smoker,dtype=int)\n",
    "data = pd.concat([data,regionDummies,genderDummies,smokerDummies],axis=1)"
   ]
  },
  {
   "cell_type": "markdown",
   "id": "8f3594d4",
   "metadata": {},
   "source": [
    "Cleaning the data as it contains data with words i covert these categories to one and Zeros and concatinate them to the original data"
   ]
  },
  {
   "cell_type": "code",
   "execution_count": 5,
   "id": "78373a49",
   "metadata": {},
   "outputs": [],
   "source": [
    "data = data.drop(['sex','smoker','northeast','region','female','no'],axis=1)\n",
    "data.columns = ['age',  'bmi',  'children', 'charges',  \"northwest\" , 'southeast',  'southwest',  'male',  'smoker']"
   ]
  },
  {
   "cell_type": "markdown",
   "id": "ddb92906",
   "metadata": {},
   "source": [
    "Further cleaning of the data and removing redundant category fields "
   ]
  },
  {
   "cell_type": "code",
   "execution_count": 6,
   "id": "c0728377",
   "metadata": {},
   "outputs": [],
   "source": [
    "y =  data['charges'].values\n",
    "x = data.drop(['charges'], axis=1).values"
   ]
  },
  {
   "cell_type": "markdown",
   "id": "b2cdd941",
   "metadata": {},
   "source": [
    "Setting of the x Input fetures and y output values"
   ]
  },
  {
   "cell_type": "code",
   "execution_count": 7,
   "id": "f8c539e9",
   "metadata": {},
   "outputs": [],
   "source": [
    "def linearRegression(lr,iterations,X,Y):\n",
    "    samples  = X.shape[0]\n",
    "    features = X.shape[1]\n",
    "    w=np.zeros(features)\n",
    "    b = 0 \n",
    "    for i in range(iterations):\n",
    "        y = np.dot(X,w) + b\n",
    "        dw = (1/samples)*np.dot(X.T,(y-Y))\n",
    "        db =  (1/samples)*np.sum(y-Y)\n",
    "        b = b-lr*db\n",
    "        w = w-lr*dw\n",
    "    \n",
    "    return b ,w"
   ]
  },
  {
   "cell_type": "markdown",
   "id": "97c963e9",
   "metadata": {},
   "source": [
    "Creating a linearRegression function that utilizes vectorization and gradient descent to estimate the value of the weights (w) and the bias (b) for the linear equation \n",
    "y=wx+b."
   ]
  },
  {
   "cell_type": "code",
   "execution_count": 8,
   "id": "bf6049a1",
   "metadata": {},
   "outputs": [],
   "source": [
    "bias,weight = linearRegression(0.000003,1100,x,y)"
   ]
  },
  {
   "cell_type": "markdown",
   "id": "080c0ba6",
   "metadata": {},
   "source": [
    "## Testing the code "
   ]
  },
  {
   "cell_type": "code",
   "execution_count": 9,
   "id": "47c7122d",
   "metadata": {},
   "outputs": [],
   "source": [
    "x_test = x[3]\n",
    "y_test = y[3]\n",
    "y_prid = np.dot(x_test,weight) + bias"
   ]
  },
  {
   "cell_type": "code",
   "execution_count": 10,
   "id": "39899c00",
   "metadata": {},
   "outputs": [
    {
     "name": "stdout",
     "output_type": "stream",
     "text": [
      " the accuracy is  49.19052559850402\n"
     ]
    }
   ],
   "source": [
    "print(f\" the accuracy is  {100*(y_prid/y_test)}\")"
   ]
  }
 ],
 "metadata": {
  "kernelspec": {
   "display_name": "Python 3 (ipykernel)",
   "language": "python",
   "name": "python3"
  },
  "language_info": {
   "codemirror_mode": {
    "name": "ipython",
    "version": 3
   },
   "file_extension": ".py",
   "mimetype": "text/x-python",
   "name": "python",
   "nbconvert_exporter": "python",
   "pygments_lexer": "ipython3",
   "version": "3.11.5"
  }
 },
 "nbformat": 4,
 "nbformat_minor": 5
}
